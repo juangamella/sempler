{
 "cells": [
  {
   "cell_type": "code",
   "execution_count": 7,
   "metadata": {},
   "outputs": [],
   "source": [
    "import numpy as np\n",
    "import matplotlib.pyplot as plt\n",
    "import causaldag as cd\n",
    "import sempler as sempler\n",
    "from sempler import utils"
   ]
  },
  {
   "cell_type": "code",
   "execution_count": 8,
   "metadata": {},
   "outputs": [],
   "source": [
    "W = utils.eg1()[0]\n",
    "sem = sempler.LGANM(W, (0,1))\n",
    "d0 = sem.sample(population = True)"
   ]
  },
  {
   "cell_type": "code",
   "execution_count": 32,
   "metadata": {},
   "outputs": [],
   "source": [
    "def O(B, covariance = d0.covariance, truth = sem.variances):\n",
    "    p = len(covariance)\n",
    "    omega = (np.eye(p) - B).T @ covariance @ (np.eye(p) - B)\n",
    "    plt.subplot(121), plt.imshow(np.diag(truth))\n",
    "    plt.subplot(122), plt.imshow(omega)\n",
    "    return omega"
   ]
  },
  {
   "cell_type": "code",
   "execution_count": 25,
   "metadata": {},
   "outputs": [
    {
     "data": {
      "image/png": "[encoded data removed]",
      "text/plain": [
       "<Figure size 432x288 with 1 Axes>"
      ]
     },
     "metadata": {},
     "output_type": "display_data"
    }
   ],
   "source": [
    "utils.plot_graph(W)"
   ]
  },
  {
   "cell_type": "code",
   "execution_count": 26,
   "metadata": {},
   "outputs": [
    {
     "data": {
      "text/plain": [
       "array([[ 0,  1, -1,  0,  0],\n",
       "       [ 0,  0,  0,  1,  0],\n",
       "       [ 0,  0,  0,  1,  0],\n",
       "       [ 0,  0,  0,  0,  1],\n",
       "       [ 0,  0,  0,  0,  0]])"
      ]
     },
     "execution_count": 26,
     "metadata": {},
     "output_type": "execute_result"
    }
   ],
   "source": [
    "W"
   ]
  },
  {
   "cell_type": "code",
   "execution_count": 33,
   "metadata": {},
   "outputs": [
    {
     "data": {
      "text/plain": [
       "array([[3.47882568e-01, 0.00000000e+00, 0.00000000e+00, 0.00000000e+00,\n",
       "        0.00000000e+00],\n",
       "       [0.00000000e+00, 6.72359414e-01, 0.00000000e+00, 1.11022302e-16,\n",
       "        0.00000000e+00],\n",
       "       [0.00000000e+00, 0.00000000e+00, 9.91191469e-01, 1.11022302e-16,\n",
       "        0.00000000e+00],\n",
       "       [0.00000000e+00, 1.11022302e-16, 1.11022302e-16, 4.65195020e-01,\n",
       "        0.00000000e+00],\n",
       "       [0.00000000e+00, 0.00000000e+00, 0.00000000e+00, 0.00000000e+00,\n",
       "        9.42461193e-01]])"
      ]
     },
     "execution_count": 33,
     "metadata": {},
     "output_type": "execute_result"
    },
    {
     "data": {
      "image/png": "[encoded data removed]",
      "text/plain": [
       "<Figure size 432x288 with 2 Axes>"
      ]
     },
     "metadata": {
      "needs_background": "light"
     },
     "output_type": "display_data"
    }
   ],
   "source": [
    "O(sem.W)"
   ]
  },
  {
   "cell_type": "code",
   "execution_count": 34,
   "metadata": {},
   "outputs": [
    {
     "data": {
      "text/plain": [
       "array([[ 1.28966783e-01, -1.20671702e-16,  1.12757026e-16,\n",
       "        -3.20923843e-17, -1.21430643e-16],\n",
       "       [-1.86320143e-16,  1.67406788e-01,  2.03830008e-17,\n",
       "        -9.76866157e-17, -3.42174206e-16],\n",
       "       [ 3.46944695e-18,  1.90819582e-17,  5.18160255e-01,\n",
       "        -9.02056208e-17, -8.32667268e-16],\n",
       "       [ 2.35922393e-16, -1.27502175e-16,  2.77555756e-17,\n",
       "         1.67808656e+00, -3.74700271e-16],\n",
       "       [-1.66533454e-16, -4.57966998e-16, -8.88178420e-16,\n",
       "        -4.99600361e-16,  5.41453120e+00]])"
      ]
     },
     "execution_count": 34,
     "metadata": {},
     "output_type": "execute_result"
    },
    {
     "data": {
      "image/png": "[encoded data removed]",
      "text/plain": [
       "<Figure size 432x288 with 2 Axes>"
      ]
     },
     "metadata": {
      "needs_background": "light"
     },
     "output_type": "display_data"
    }
   ],
   "source": [
    "_, eigvec = np.linalg.eigh(d0.covariance)\n",
    "B = np.eye(sem.p) - eigvec\n",
    "O(B)"
   ]
  },
  {
   "cell_type": "code",
   "execution_count": null,
   "metadata": {},
   "outputs": [],
   "source": []
  }
 ],
 "metadata": {
  "kernelspec": {
   "display_name": "Python 3",
   "language": "python",
   "name": "python3"
  },
  "language_info": {
   "codemirror_mode": {
    "name": "ipython",
    "version": 3
   },
   "file_extension": ".py",
   "mimetype": "text/x-python",
   "name": "python",
   "nbconvert_exporter": "python",
   "pygments_lexer": "ipython3",
   "version": "3.7.3"
  }
 },
 "nbformat": 4,
 "nbformat_minor": 2
}
